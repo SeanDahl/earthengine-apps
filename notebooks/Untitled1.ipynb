{
 "cells": [
  {
   "cell_type": "code",
   "execution_count": 2,
   "id": "92b41cce-7b59-4959-ada4-58159afbfa23",
   "metadata": {},
   "outputs": [
    {
     "data": {
      "text/html": [
       "\n",
       "            <style>\n",
       "                .geemap-dark {\n",
       "                    --jp-widgets-color: white;\n",
       "                    --jp-widgets-label-color: white;\n",
       "                    --jp-ui-font-color1: white;\n",
       "                    --jp-layout-color2: #454545;\n",
       "                    background-color: #383838;\n",
       "                }\n",
       "\n",
       "                .geemap-dark .jupyter-button {\n",
       "                    --jp-layout-color3: #383838;\n",
       "                }\n",
       "\n",
       "                .geemap-colab {\n",
       "                    background-color: var(--colab-primary-surface-color, white);\n",
       "                }\n",
       "\n",
       "                .geemap-colab .jupyter-button {\n",
       "                    --jp-layout-color3: var(--colab-primary-surface-color, white);\n",
       "                }\n",
       "            </style>\n",
       "            "
      ],
      "text/plain": [
       "<IPython.core.display.HTML object>"
      ]
     },
     "metadata": {},
     "output_type": "display_data"
    },
    {
     "data": {
      "application/vnd.jupyter.widget-view+json": {
       "model_id": "2bcfc3f11b8c40ad89ec1379aca78dc1",
       "version_major": 2,
       "version_minor": 0
      },
      "text/plain": [
       "Map(center=[28.6532, 77.156], controls=(WidgetControl(options=['position', 'transparent_bg'], widget=Dropdown(…"
      ]
     },
     "execution_count": 2,
     "metadata": {},
     "output_type": "execute_result"
    }
   ],
   "source": [
    "import ee\n",
    "import geemap\n",
    "import json\n",
    "import os\n",
    "import google.auth\n",
    "import google.auth.transport.requests\n",
    "from google.oauth2.credentials import Credentials\n",
    "\n",
    "# Authenticate and initialize Earth Engine\n",
    "if 'EARTHENGINE_TOKEN' in os.environ:\n",
    "    # Running on Heroku: Use the token from the environment variable\n",
    "    credentials_data = json.loads(os.environ['EARTHENGINE_TOKEN'])\n",
    "    \n",
    "    credentials = Credentials(\n",
    "        None,\n",
    "        refresh_token=credentials_data[\"refresh_token\"],\n",
    "        token_uri=\"https://oauth2.googleapis.com/token\",\n",
    "        client_id=credentials_data[\"client_id\"],\n",
    "        client_secret=credentials_data[\"client_secret\"],\n",
    "        scopes=credentials_data[\"scopes\"]\n",
    "    )\n",
    "    \n",
    "    request = google.auth.transport.requests.Request()\n",
    "    credentials.refresh(request)\n",
    "    ee.Initialize(credentials)\n",
    "else:\n",
    "    # Running locally: Ensure you have authenticated using `earthengine authenticate`\n",
    "    # and specify your project if necessary\n",
    "    ee.Initialize(project='ee1-seanvdahlman')  # Replace with your project ID\n",
    "\n",
    "# Create a map instance centered on the study area\n",
    "Map = geemap.Map(center=[28.6532, 77.156], zoom=10)\n",
    "\n",
    "# Load built-up surface images for 1975 and 2020\n",
    "image_1975 = ee.Image('JRC/GHSL/P2023A/GHS_BUILT_S/1975').select('built_surface')\n",
    "image_2020 = ee.Image('JRC/GHSL/P2023A/GHS_BUILT_S/2020').select('built_surface')\n",
    "\n",
    "# Create an image collection with indexed years\n",
    "collection = ee.ImageCollection([\n",
    "    image_1975.set('system:index', '1975'),\n",
    "    image_2020.set('system:index', '2020')\n",
    "])\n",
    "\n",
    "# Labels for the time slider\n",
    "labels = ['1975', '2020']\n",
    "\n",
    "# Define visualization parameters for the images\n",
    "visParams = {\n",
    "    'min': 0.0,\n",
    "    'max': 8000.0,  # Adjusted max to match dataset range\n",
    "    'palette': ['000000', 'FFFFFF']  # Adjusted colors for better visualization\n",
    "}\n",
    "\n",
    "# Apply visualization parameters using the time slider inspector\n",
    "try:\n",
    "    Map.ts_inspector(\n",
    "        left_ts=collection.map(lambda img: img.visualize(**visParams)), \n",
    "        right_ts=collection.map(lambda img: img.visualize(**visParams)), \n",
    "        left_names=labels, \n",
    "        right_names=labels\n",
    "    )\n",
    "except AttributeError as e:\n",
    "    print(\"It appears your geemap version might not support ts_inspector. Consider updating geemap using 'pip install --upgrade geemap'.\")\n",
    "\n",
    "# Create and add a legend to the map\n",
    "legend_dict = {\n",
    "    'No Built Surface (0)': '#000000',\n",
    "    'Max Built Surface (8000)': '#FFFFFF'\n",
    "}\n",
    "Map.add_legend(title='Built Surface', legend_dict=legend_dict)\n",
    "\n",
    "# Add additional controls: scale bar and north arrow\n",
    "import ipyleaflet\n",
    "from ipywidgets import HTML\n",
    "\n",
    "# 1. Add a scale bar (default is bottom-left)\n",
    "scale_control = ipyleaflet.ScaleControl(position='bottomleft')\n",
    "Map.add_control(scale_control)\n",
    "\n",
    "# 2. Add a north arrow\n",
    "north_arrow_html = HTML('''\n",
    "    <div style=\"text-align: center;\">\n",
    "        <img src=\"https://upload.wikimedia.org/wikipedia/commons/8/8e/North.svg\" \n",
    "             style=\"width:40px; transform: rotate(0deg);\" \n",
    "             alt=\"North Arrow\" />\n",
    "    </div>\n",
    "''')\n",
    "north_arrow_control = ipyleaflet.WidgetControl(widget=north_arrow_html, position='topright')\n",
    "Map.add_control(north_arrow_control)\n",
    "\n",
    "# Display the map (make sure this is the last line in your cell)\n",
    "Map\n"
   ]
  },
  {
   "cell_type": "code",
   "execution_count": null,
   "id": "b66de728-25b2-4c16-a9d3-05268eca985b",
   "metadata": {},
   "outputs": [],
   "source": []
  }
 ],
 "metadata": {
  "kernelspec": {
   "display_name": "Python 3 (ipykernel)",
   "language": "python",
   "name": "python3"
  },
  "language_info": {
   "codemirror_mode": {
    "name": "ipython",
    "version": 3
   },
   "file_extension": ".py",
   "mimetype": "text/x-python",
   "name": "python",
   "nbconvert_exporter": "python",
   "pygments_lexer": "ipython3",
   "version": "3.11.10"
  }
 },
 "nbformat": 4,
 "nbformat_minor": 5
}
